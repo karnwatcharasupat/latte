{
  "cells": [
    {
      "cell_type": "markdown",
      "metadata": {
        "id": "view-in-github",
        "colab_type": "text"
      },
      "source": [
        "<a href=\"https://colab.research.google.com/github/karnwatcharasupat/latte/blob/issues%2F17-examples/examples/mnist-lightning.ipynb\" target=\"_parent\"><img src=\"https://colab.research.google.com/assets/colab-badge.svg\" alt=\"Open In Colab\"/></a>"
      ]
    },
    {
      "cell_type": "markdown",
      "source": [
        "# Example Notebook for using Latte with Pytorch Lightning"
      ],
      "metadata": {
        "id": "0SEjpqcL0FHh"
      }
    },
    {
      "cell_type": "markdown",
      "source": [
        "## Installing Latte and dependencies"
      ],
      "metadata": {
        "id": "8v4buxl60Lfv"
      }
    },
    {
      "cell_type": "code",
      "source": [
        "!pip install latte-metrics"
      ],
      "metadata": {
        "id": "iY1z4qYe0D5i",
        "outputId": "6c2b0eb2-4e9c-4931-cbb0-19c321f47da2",
        "colab": {
          "base_uri": "https://localhost:8080/"
        }
      },
      "execution_count": 1,
      "outputs": [
        {
          "output_type": "stream",
          "name": "stdout",
          "text": [
            "Collecting latte-metrics\n",
            "  Downloading latte_metrics-0.0.1a3-py3-none-any.whl (27 kB)\n",
            "Requirement already satisfied: scikit-learn>=1.0 in /usr/local/lib/python3.7/dist-packages (from latte-metrics) (1.0.1)\n",
            "Requirement already satisfied: numpy>=1.18 in /usr/local/lib/python3.7/dist-packages (from latte-metrics) (1.19.5)\n",
            "Requirement already satisfied: threadpoolctl>=2.0.0 in /usr/local/lib/python3.7/dist-packages (from scikit-learn>=1.0->latte-metrics) (3.0.0)\n",
            "Requirement already satisfied: joblib>=0.11 in /usr/local/lib/python3.7/dist-packages (from scikit-learn>=1.0->latte-metrics) (1.1.0)\n",
            "Requirement already satisfied: scipy>=1.1.0 in /usr/local/lib/python3.7/dist-packages (from scikit-learn>=1.0->latte-metrics) (1.4.1)\n",
            "Installing collected packages: latte-metrics\n",
            "Successfully installed latte-metrics-0.0.1a3\n"
          ]
        }
      ]
    }
  ],
  "metadata": {
    "colab": {
      "name": "mnist-lightning.ipynb",
      "provenance": [],
      "include_colab_link": true
    },
    "language_info": {
      "name": "python"
    },
    "kernelspec": {
      "name": "python3",
      "display_name": "Python 3"
    }
  },
  "nbformat": 4,
  "nbformat_minor": 0
}