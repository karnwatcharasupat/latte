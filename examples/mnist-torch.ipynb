{
  "cells": [
    {
      "cell_type": "markdown",
      "metadata": {
        "id": "view-in-github",
        "colab_type": "text"
      },
      "source": [
        "<a href=\"https://colab.research.google.com/github/karnwatcharasupat/latte/blob/issues%2F17-examples/examples/mnist-torch.ipynb\" target=\"_parent\"><img src=\"https://colab.research.google.com/assets/colab-badge.svg\" alt=\"Open In Colab\"/></a>"
      ]
    },
    {
      "cell_type": "markdown",
      "source": [
        "# Using Latte with Pytorch Lightning"
      ],
      "metadata": {
        "id": "0SEjpqcL0FHh"
      }
    },
    {
      "cell_type": "markdown",
      "source": [
        "Before you begin, please turn on GPU accelerator at `Runtime > Change runtime type > Hardware accelerator > GPU`\n"
      ],
      "metadata": {
        "id": "P4gm_C-N7MBz"
      }
    },
    {
      "cell_type": "markdown",
      "source": [
        "## Installing Latte and Dependencies"
      ],
      "metadata": {
        "id": "8v4buxl60Lfv"
      }
    },
    {
      "cell_type": "code",
      "source": [
        "# This command automatically install PyTorch and TorchMetrics.\n",
        "# For users with existing pytorch>=1.3.1 and torchmetrics>=0.2.0 installation, \n",
        "#   use `pip install latte-metrics` with no extras\n",
        "!pip install -q latte-metrics[pytorch]  \n",
        "\n",
        "# Pytorch Lightning is installed independently\n",
        "!pip install -q pytorch-lightning       "
      ],
      "metadata": {
        "colab": {
          "base_uri": "https://localhost:8080/"
        },
        "id": "iY1z4qYe0D5i",
        "outputId": "8034d56f-6491-4043-de4b-a6aafe5a5f01"
      },
      "execution_count": 1,
      "outputs": [
        {
          "output_type": "stream",
          "name": "stdout",
          "text": [
            "\u001b[K     |████████████████████████████████| 332 kB 6.7 MB/s \n",
            "\u001b[K     |████████████████████████████████| 526 kB 4.6 MB/s \n",
            "\u001b[K     |████████████████████████████████| 596 kB 37.5 MB/s \n",
            "\u001b[K     |████████████████████████████████| 132 kB 37.7 MB/s \n",
            "\u001b[K     |████████████████████████████████| 829 kB 37.8 MB/s \n",
            "\u001b[K     |████████████████████████████████| 1.1 MB 27.3 MB/s \n",
            "\u001b[K     |████████████████████████████████| 271 kB 40.4 MB/s \n",
            "\u001b[K     |████████████████████████████████| 160 kB 42.4 MB/s \n",
            "\u001b[K     |████████████████████████████████| 192 kB 40.0 MB/s \n",
            "\u001b[?25h  Building wheel for future (setup.py) ... \u001b[?25l\u001b[?25hdone\n"
          ]
        }
      ]
    },
    {
      "cell_type": "markdown",
      "source": [
        "## Preparing data"
      ],
      "metadata": {
        "id": "jbZfmlo18PXg"
      }
    },
    {
      "cell_type": "markdown",
      "source": [
        "### Downloading dataset"
      ],
      "metadata": {
        "id": "VXx5z1SK1GCl"
      }
    },
    {
      "cell_type": "code",
      "source": [
        "!mkdir -p /content/dataset\n",
        "!gdown --id \"1fFGJW0IHoBmLuD6CEKCB8jz3Y5LJ5Duk\" -O /content/dataset/morphomnist.zip\n",
        "!unzip -o \"/content/dataset/morphomnist.zip\" -d /content/dataset/"
      ],
      "metadata": {
        "colab": {
          "base_uri": "https://localhost:8080/"
        },
        "id": "-nmis2eO1gIt",
        "outputId": "56b8c10b-38fb-4b48-ee7f-af8b42748c12"
      },
      "execution_count": 2,
      "outputs": [
        {
          "output_type": "stream",
          "name": "stdout",
          "text": [
            "Downloading...\n",
            "From: https://drive.google.com/uc?id=1fFGJW0IHoBmLuD6CEKCB8jz3Y5LJ5Duk\n",
            "To: /content/dataset/morphomnist.zip\n",
            "\r  0% 0.00/15.5M [00:00<?, ?B/s]\r100% 15.5M/15.5M [00:00<00:00, 137MB/s]\n",
            "Archive:  /content/dataset/morphomnist.zip\n",
            "   creating: /content/dataset/global/\n",
            " extracting: /content/dataset/global/train-pert-idx1-ubyte.gz  \n",
            "  inflating: /content/dataset/global/train-images-idx3-ubyte.gz  \n",
            "  inflating: /content/dataset/global/train-morpho.csv  \n",
            " extracting: /content/dataset/global/train-labels-idx1-ubyte.gz  \n",
            " extracting: /content/dataset/global/t10k-pert-idx1-ubyte.gz  \n",
            "  inflating: /content/dataset/global/t10k-images-idx3-ubyte.gz  \n",
            "  inflating: /content/dataset/global/t10k-morpho.csv  \n",
            " extracting: /content/dataset/global/t10k-labels-idx1-ubyte.gz  \n",
            "  inflating: /content/dataset/global/README-global.txt  \n"
          ]
        }
      ]
    },
    {
      "cell_type": "markdown",
      "source": [
        "### Cloning Morpho-MNIST measurement code"
      ],
      "metadata": {
        "id": "HCGLIL6K5Bkq"
      }
    },
    {
      "cell_type": "code",
      "source": [
        "!git clone https://github.com/dccastro/Morpho-MNIST"
      ],
      "metadata": {
        "colab": {
          "base_uri": "https://localhost:8080/"
        },
        "id": "GQSicjdF0b57",
        "outputId": "b2ea3926-9932-45d6-fa28-cfb8751c628a"
      },
      "execution_count": 3,
      "outputs": [
        {
          "output_type": "stream",
          "name": "stdout",
          "text": [
            "Cloning into 'Morpho-MNIST'...\n",
            "remote: Enumerating objects: 543, done.\u001b[K\n",
            "remote: Counting objects: 100% (12/12), done.\u001b[K\n",
            "remote: Compressing objects: 100% (9/9), done.\u001b[K\n",
            "remote: Total 543 (delta 4), reused 7 (delta 3), pack-reused 531\u001b[K\n",
            "Receiving objects: 100% (543/543), 154.91 KiB | 1.35 MiB/s, done.\n",
            "Resolving deltas: 100% (312/312), done.\n"
          ]
        }
      ]
    },
    {
      "cell_type": "code",
      "source": [
        "import sys\n",
        "sys.path.append('/content/Morpho-MNIST')"
      ],
      "metadata": {
        "id": "CweifwUB8JF_"
      },
      "execution_count": 4,
      "outputs": []
    },
    {
      "cell_type": "markdown",
      "source": [
        "### Creating dataloader"
      ],
      "metadata": {
        "id": "sGfmt5hR8JnF"
      }
    },
    {
      "cell_type": "code",
      "source": [
        "import os\n",
        "import pandas as pd\n",
        "import numpy as np\n",
        "import torch\n",
        "from torch.utils.data import DataLoader, TensorDataset\n",
        "from morphomnist import io, morpho\n",
        "\n",
        "class MorphoMnistDataset():\n",
        "\n",
        "    def __init__(self, root_dir='/content/dataset/global'):\n",
        "        super().__init__()\n",
        "        self.kwargs = {'num_workers': 1, 'pin_memory': True} if torch.cuda.is_available() else {}\n",
        "        self.root_dir = root_dir\n",
        "        self.data_path_str = \"-images-idx3-ubyte.gz\"\n",
        "        self.label_path_str = \"-labels-idx1-ubyte.gz\"\n",
        "        self.morpho_path_str = \"-morpho.csv\"\n",
        "\n",
        "        self.train_dataset = self._create_dataset(dataset_type=\"train\")\n",
        "        self.val_dataset = self._create_dataset(dataset_type=\"t10k\")\n",
        "\n",
        "    def data_loaders(self, batch_size):\n",
        "        train_dl = DataLoader(\n",
        "            self.train_dataset,\n",
        "            batch_size=batch_size,\n",
        "            shuffle=True,\n",
        "            **self.kwargs\n",
        "        )\n",
        "        val_dl = DataLoader(\n",
        "            self.val_dataset,\n",
        "            batch_size=batch_size,\n",
        "            shuffle=False,\n",
        "        )\n",
        "        return train_dl, val_dl\n",
        "\n",
        "    def _create_dataset(self, dataset_type=\"train\"):\n",
        "        data_path = os.path.join(\n",
        "            self.root_dir,\n",
        "            dataset_type + self.data_path_str\n",
        "        )\n",
        "        morpho_path = os.path.join(\n",
        "            self.root_dir,\n",
        "            dataset_type + self.morpho_path_str\n",
        "        )\n",
        "        images = io.load_idx(data_path)\n",
        "        images = np.expand_dims(images, axis=1).astype('float32') / 255.0\n",
        "        morpho_labels = pd.read_csv(morpho_path).values.astype('float32')\n",
        "        dataset = TensorDataset(\n",
        "            torch.from_numpy(images),\n",
        "            torch.from_numpy(morpho_labels)\n",
        "        )\n",
        "        return dataset"
      ],
      "metadata": {
        "id": "_eiisEft71kO"
      },
      "execution_count": 5,
      "outputs": []
    },
    {
      "cell_type": "markdown",
      "source": [
        "## Creating a simple VAE\n",
        "\n",
        "Using the model from\n",
        "> A. Pati and A. Lerch, Attribute-based regularization of latent spaces for variational auto-encoders. Neural Computing & Applications, 33, 4429–4444 (2021). https://doi.org/10.1007/s00521-020-05270-2\n",
        "\n"
      ],
      "metadata": {
        "id": "FsHMwY__5TNa"
      }
    },
    {
      "cell_type": "code",
      "source": [
        "from torch import nn, distributions\n",
        "\n",
        "class ImageVAE(nn.Module):\n",
        "    def __init__(self):\n",
        "        super().__init__()\n",
        "        self.input_size = 784\n",
        "        self.z_dim = 16\n",
        "        self.inter_dim = 19\n",
        "        self.enc_conv = nn.Sequential(\n",
        "            nn.Conv2d(1, 64, 4, 1),\n",
        "            nn.SELU(),\n",
        "            nn.Dropout(0.5),\n",
        "            nn.Conv2d(64, 64, 4, 1),\n",
        "            nn.SELU(),\n",
        "            nn.Dropout(0.5),\n",
        "            nn.Conv2d(64, 8, 4, 1),\n",
        "            nn.SELU(),\n",
        "            nn.Dropout(0.5),\n",
        "        )\n",
        "        self.enc_lin = nn.Sequential(\n",
        "            nn.Linear(2888, 256),\n",
        "            nn.SELU()\n",
        "        )\n",
        "        self.enc_mean = nn.Linear(256, self.z_dim)\n",
        "        self.enc_log_std = nn.Linear(256, self.z_dim)\n",
        "        self.dec_lin = nn.Sequential(\n",
        "            nn.Linear(self.z_dim, 256),\n",
        "            nn.SELU(),\n",
        "            nn.Linear(256, 2888),\n",
        "            nn.SELU()\n",
        "        )\n",
        "        self.dec_conv = nn.Sequential(\n",
        "            nn.ConvTranspose2d(8, 64, 4, 1),\n",
        "            nn.SELU(),\n",
        "            nn.Dropout(0.5),\n",
        "            nn.ConvTranspose2d(64, 64, 4, 1),\n",
        "            nn.SELU(),\n",
        "            nn.Dropout(0.5),\n",
        "            nn.ConvTranspose2d(64, 1, 4, 1),\n",
        "        )\n",
        "\n",
        "        self.xavier_initialization()\n",
        "\n",
        "    def xavier_initialization(self):\n",
        "        for name, param in self.named_parameters():\n",
        "            if 'weight' in name:\n",
        "                nn.init.xavier_normal_(param)\n",
        "\n",
        "    def encode(self, x):\n",
        "        hidden = self.enc_conv(x)\n",
        "        hidden = hidden.view(x.size(0), -1)\n",
        "        hidden = self.enc_lin(hidden)\n",
        "        z_mean = self.enc_mean(hidden)\n",
        "        z_log_std = self.enc_log_std(hidden)\n",
        "        z_distribution = distributions.Normal(loc=z_mean, scale=torch.exp(z_log_std) + 1e-16)\n",
        "        return z_distribution\n",
        "\n",
        "    def decode(self, z):\n",
        "        hidden = self.dec_lin(z)\n",
        "        hidden = hidden.view(z.size(0), -1, self.inter_dim, self.inter_dim)\n",
        "        hidden = self.dec_conv(hidden)\n",
        "        return hidden\n",
        "\n",
        "    def reparametrize(self, z_dist):\n",
        "        # sample from distribution\n",
        "        z_tilde = z_dist.rsample()\n",
        "\n",
        "        # compute prior\n",
        "        prior_dist = torch.distributions.Normal(\n",
        "            loc=torch.zeros_like(z_dist.loc),\n",
        "            scale=torch.ones_like(z_dist.scale)\n",
        "        )\n",
        "        return z_tilde, prior_dist\n",
        "\n",
        "    def forward(self, x):\n",
        "        # compute distribution using encoder\n",
        "        z_dist = self.encode(x)\n",
        "\n",
        "        # reparametrize\n",
        "        z_tilde, prior_dist = self.reparametrize(z_dist)\n",
        "\n",
        "        # compute output of decoding layer\n",
        "        output = self.decode(z_tilde).view(x.size())\n",
        "\n",
        "        return output, z_dist, prior_dist, z_tilde"
      ],
      "metadata": {
        "id": "alAggbUd5VBk"
      },
      "execution_count": 37,
      "outputs": []
    },
    {
      "cell_type": "code",
      "source": [
        "from torch.nn import functional as F\n",
        "\n",
        "\n",
        "def ar_signed_loss(z, a, factor=10.0):\n",
        "\n",
        "    n_attr = a.shape[-1]\n",
        "\n",
        "    # compute latent distance matrix\n",
        "    lc_dist_mat = z[:, None, :n_attr] - z[None, :, :n_attr]\n",
        "\n",
        "    # compute attribute distance matrix\n",
        "    attribute_dist_mat = a[:, None, ...] - a[None, :, :]\n",
        "\n",
        "    # compute regularization loss\n",
        "    lc_tanh = torch.tanh(lc_dist_mat * factor)\n",
        "    attribute_sign = torch.sign(attribute_dist_mat)\n",
        "    ar_loss = F.l1_loss(lc_tanh, attribute_sign.float())\n",
        "\n",
        "    return ar_loss\n",
        "\n",
        "def compute_loss(x, xhat, zd, z0, z, a):\n",
        "\n",
        "    recon_loss = F.mse_loss(x, torch.sigmoid(xhat), reduction='sum')/batch_size\n",
        "\n",
        "    kld_loss = distributions.kl.kl_divergence(zd, z0).sum(-1).mean()\n",
        "\n",
        "    ar_loss = ar_signed_loss(z, a)\n",
        "\n",
        "    return recon_loss + kld_loss + ar_loss"
      ],
      "metadata": {
        "id": "sI9EBkI-AqrT"
      },
      "execution_count": 28,
      "outputs": []
    },
    {
      "cell_type": "markdown",
      "source": [
        "## Training the model"
      ],
      "metadata": {
        "id": "XOe8XU3b8pA0"
      }
    },
    {
      "cell_type": "code",
      "source": [
        "from tqdm.notebook import tqdm"
      ],
      "metadata": {
        "id": "eJkeMc8k-f9Z"
      },
      "execution_count": 25,
      "outputs": []
    },
    {
      "cell_type": "code",
      "source": [
        "batch_size = 32\n",
        "num_epochs = 10\n",
        "lr = 1e-4"
      ],
      "metadata": {
        "id": "EmFWphNO9wU1"
      },
      "execution_count": 40,
      "outputs": []
    },
    {
      "cell_type": "code",
      "source": [
        "train_dl, val_dl =  MorphoMnistDataset().data_loaders(batch_size)\n",
        "\n",
        "model = ImageVAE().cuda()\n",
        "\n",
        "optimizer = torch.optim.Adam(model.parameters(), lr=lr)"
      ],
      "metadata": {
        "id": "8hvsM1wP6lqk"
      },
      "execution_count": 41,
      "outputs": []
    },
    {
      "cell_type": "code",
      "source": [
        "from latte.metrics.torch.disentanglement import MutualInformationGap\n",
        "\n",
        "mig = MutualInformationGap(reg_dim=range(7))"
      ],
      "metadata": {
        "id": "MVQIeMMgCic_"
      },
      "execution_count": 33,
      "outputs": []
    },
    {
      "cell_type": "code",
      "source": [
        "for epoch_index in range(num_epochs):\n",
        "\n",
        "    model.train()\n",
        "    with tqdm(train_dl, desc=f\"epoch {epoch_index}/{num_epochs}\") as prog_bar:\n",
        "        for inputs, attributes in prog_bar:\n",
        "            \n",
        "            inputs = inputs.cuda()\n",
        "            attributes = attributes.cuda()\n",
        "\n",
        "            recon, z_dist, prior_dist, z_tilde = model(inputs)\n",
        "            \n",
        "            model.zero_grad()\n",
        "\n",
        "            loss = compute_loss(\n",
        "                inputs, recon, z_dist, prior_dist, z_tilde, attributes\n",
        "            )\n",
        "\n",
        "            prog_bar.set_postfix({'loss': loss.detach().cpu().numpy()})\n",
        "\n",
        "            # Latte automatically move `z_tilde` to CPU\n",
        "            mig.update(z_tilde, attributes)\n",
        "\n",
        "            loss.backward()\n",
        "            optimizer.step()\n",
        "\n",
        "        mig_val = mig.compute()\n",
        "\n",
        "        prog_bar.set_postfix({'mig': mig_val})\n",
        "\n",
        "        mig.reset()"
      ],
      "metadata": {
        "id": "mblhS28n97z_",
        "outputId": "f1bb2c29-ec27-46ea-ba5f-2774ed128d80",
        "colab": {
          "base_uri": "https://localhost:8080/",
          "height": 49,
          "referenced_widgets": [
            "672282f8f9d741599008bc86ee313529",
            "e9e39228f4a24aaaa25254bc0b8d4f1d",
            "db785a9c77ed4beba826553850e68f5e",
            "56b95c08ec9a4093a137226513a184a3",
            "8cf9cbd20c3d4d35ae4c06e0872a166b",
            "226cbe25025943c7a03d4b360f7fed77",
            "46ee0ef32c074ffba8084760f1f2cc94",
            "5ad22d24a7fb44c89385685c73dae0f1",
            "f179b4de41a341f7b778e08c05ca7039",
            "3d6b5ee83d384048a3ad2903b1844fe0",
            "3da613c29f4b4234a1890551c656b9f7"
          ]
        }
      },
      "execution_count": null,
      "outputs": [
        {
          "output_type": "display_data",
          "data": {
            "application/vnd.jupyter.widget-view+json": {
              "model_id": "672282f8f9d741599008bc86ee313529",
              "version_minor": 0,
              "version_major": 2
            },
            "text/plain": [
              "epoch 0/10:   0%|          | 0/1875 [00:00<?, ?it/s]"
            ]
          },
          "metadata": {}
        }
      ]
    }
  ],
  "metadata": {
    "colab": {
      "name": "mnist-lightning.ipynb",
      "provenance": [],
      "include_colab_link": true
    },
    "language_info": {
      "name": "python"
    },
    "kernelspec": {
      "name": "python3",
      "display_name": "Python 3"
    },
    "accelerator": "GPU",
    "widgets": {
      "application/vnd.jupyter.widget-state+json": {
        "672282f8f9d741599008bc86ee313529": {
          "model_module": "@jupyter-widgets/controls",
          "model_name": "HBoxModel",
          "model_module_version": "1.5.0",
          "state": {
            "_view_name": "HBoxView",
            "_dom_classes": [],
            "_model_name": "HBoxModel",
            "_view_module": "@jupyter-widgets/controls",
            "_model_module_version": "1.5.0",
            "_view_count": null,
            "_view_module_version": "1.5.0",
            "box_style": "",
            "layout": "IPY_MODEL_e9e39228f4a24aaaa25254bc0b8d4f1d",
            "_model_module": "@jupyter-widgets/controls",
            "children": [
              "IPY_MODEL_db785a9c77ed4beba826553850e68f5e",
              "IPY_MODEL_56b95c08ec9a4093a137226513a184a3",
              "IPY_MODEL_8cf9cbd20c3d4d35ae4c06e0872a166b"
            ]
          }
        },
        "e9e39228f4a24aaaa25254bc0b8d4f1d": {
          "model_module": "@jupyter-widgets/base",
          "model_name": "LayoutModel",
          "model_module_version": "1.2.0",
          "state": {
            "_view_name": "LayoutView",
            "grid_template_rows": null,
            "right": null,
            "justify_content": null,
            "_view_module": "@jupyter-widgets/base",
            "overflow": null,
            "_model_module_version": "1.2.0",
            "_view_count": null,
            "flex_flow": null,
            "width": null,
            "min_width": null,
            "border": null,
            "align_items": null,
            "bottom": null,
            "_model_module": "@jupyter-widgets/base",
            "top": null,
            "grid_column": null,
            "overflow_y": null,
            "overflow_x": null,
            "grid_auto_flow": null,
            "grid_area": null,
            "grid_template_columns": null,
            "flex": null,
            "_model_name": "LayoutModel",
            "justify_items": null,
            "grid_row": null,
            "max_height": null,
            "align_content": null,
            "visibility": null,
            "align_self": null,
            "height": null,
            "min_height": null,
            "padding": null,
            "grid_auto_rows": null,
            "grid_gap": null,
            "max_width": null,
            "order": null,
            "_view_module_version": "1.2.0",
            "grid_template_areas": null,
            "object_position": null,
            "object_fit": null,
            "grid_auto_columns": null,
            "margin": null,
            "display": null,
            "left": null
          }
        },
        "db785a9c77ed4beba826553850e68f5e": {
          "model_module": "@jupyter-widgets/controls",
          "model_name": "HTMLModel",
          "model_module_version": "1.5.0",
          "state": {
            "_view_name": "HTMLView",
            "style": "IPY_MODEL_226cbe25025943c7a03d4b360f7fed77",
            "_dom_classes": [],
            "description": "",
            "_model_name": "HTMLModel",
            "placeholder": "​",
            "_view_module": "@jupyter-widgets/controls",
            "_model_module_version": "1.5.0",
            "value": "epoch 0/10:  37%",
            "_view_count": null,
            "_view_module_version": "1.5.0",
            "description_tooltip": null,
            "_model_module": "@jupyter-widgets/controls",
            "layout": "IPY_MODEL_46ee0ef32c074ffba8084760f1f2cc94"
          }
        },
        "56b95c08ec9a4093a137226513a184a3": {
          "model_module": "@jupyter-widgets/controls",
          "model_name": "FloatProgressModel",
          "model_module_version": "1.5.0",
          "state": {
            "_view_name": "ProgressView",
            "style": "IPY_MODEL_5ad22d24a7fb44c89385685c73dae0f1",
            "_dom_classes": [],
            "description": "",
            "_model_name": "FloatProgressModel",
            "bar_style": "danger",
            "max": 1875,
            "_view_module": "@jupyter-widgets/controls",
            "_model_module_version": "1.5.0",
            "value": 702,
            "_view_count": null,
            "_view_module_version": "1.5.0",
            "orientation": "horizontal",
            "min": 0,
            "description_tooltip": null,
            "_model_module": "@jupyter-widgets/controls",
            "layout": "IPY_MODEL_f179b4de41a341f7b778e08c05ca7039"
          }
        },
        "8cf9cbd20c3d4d35ae4c06e0872a166b": {
          "model_module": "@jupyter-widgets/controls",
          "model_name": "HTMLModel",
          "model_module_version": "1.5.0",
          "state": {
            "_view_name": "HTMLView",
            "style": "IPY_MODEL_3d6b5ee83d384048a3ad2903b1844fe0",
            "_dom_classes": [],
            "description": "",
            "_model_name": "HTMLModel",
            "placeholder": "​",
            "_view_module": "@jupyter-widgets/controls",
            "_model_module_version": "1.5.0",
            "value": " 702/1875 [00:20&lt;00:35, 33.42it/s, loss=tensor(121.4461, device=&#x27;cuda:0&#x27;, grad_fn=&lt;AddBackward0&gt;)]",
            "_view_count": null,
            "_view_module_version": "1.5.0",
            "description_tooltip": null,
            "_model_module": "@jupyter-widgets/controls",
            "layout": "IPY_MODEL_3da613c29f4b4234a1890551c656b9f7"
          }
        },
        "226cbe25025943c7a03d4b360f7fed77": {
          "model_module": "@jupyter-widgets/controls",
          "model_name": "DescriptionStyleModel",
          "model_module_version": "1.5.0",
          "state": {
            "_view_name": "StyleView",
            "_model_name": "DescriptionStyleModel",
            "description_width": "",
            "_view_module": "@jupyter-widgets/base",
            "_model_module_version": "1.5.0",
            "_view_count": null,
            "_view_module_version": "1.2.0",
            "_model_module": "@jupyter-widgets/controls"
          }
        },
        "46ee0ef32c074ffba8084760f1f2cc94": {
          "model_module": "@jupyter-widgets/base",
          "model_name": "LayoutModel",
          "model_module_version": "1.2.0",
          "state": {
            "_view_name": "LayoutView",
            "grid_template_rows": null,
            "right": null,
            "justify_content": null,
            "_view_module": "@jupyter-widgets/base",
            "overflow": null,
            "_model_module_version": "1.2.0",
            "_view_count": null,
            "flex_flow": null,
            "width": null,
            "min_width": null,
            "border": null,
            "align_items": null,
            "bottom": null,
            "_model_module": "@jupyter-widgets/base",
            "top": null,
            "grid_column": null,
            "overflow_y": null,
            "overflow_x": null,
            "grid_auto_flow": null,
            "grid_area": null,
            "grid_template_columns": null,
            "flex": null,
            "_model_name": "LayoutModel",
            "justify_items": null,
            "grid_row": null,
            "max_height": null,
            "align_content": null,
            "visibility": null,
            "align_self": null,
            "height": null,
            "min_height": null,
            "padding": null,
            "grid_auto_rows": null,
            "grid_gap": null,
            "max_width": null,
            "order": null,
            "_view_module_version": "1.2.0",
            "grid_template_areas": null,
            "object_position": null,
            "object_fit": null,
            "grid_auto_columns": null,
            "margin": null,
            "display": null,
            "left": null
          }
        },
        "5ad22d24a7fb44c89385685c73dae0f1": {
          "model_module": "@jupyter-widgets/controls",
          "model_name": "ProgressStyleModel",
          "model_module_version": "1.5.0",
          "state": {
            "_view_name": "StyleView",
            "_model_name": "ProgressStyleModel",
            "description_width": "",
            "_view_module": "@jupyter-widgets/base",
            "_model_module_version": "1.5.0",
            "_view_count": null,
            "_view_module_version": "1.2.0",
            "bar_color": null,
            "_model_module": "@jupyter-widgets/controls"
          }
        },
        "f179b4de41a341f7b778e08c05ca7039": {
          "model_module": "@jupyter-widgets/base",
          "model_name": "LayoutModel",
          "model_module_version": "1.2.0",
          "state": {
            "_view_name": "LayoutView",
            "grid_template_rows": null,
            "right": null,
            "justify_content": null,
            "_view_module": "@jupyter-widgets/base",
            "overflow": null,
            "_model_module_version": "1.2.0",
            "_view_count": null,
            "flex_flow": null,
            "width": null,
            "min_width": null,
            "border": null,
            "align_items": null,
            "bottom": null,
            "_model_module": "@jupyter-widgets/base",
            "top": null,
            "grid_column": null,
            "overflow_y": null,
            "overflow_x": null,
            "grid_auto_flow": null,
            "grid_area": null,
            "grid_template_columns": null,
            "flex": null,
            "_model_name": "LayoutModel",
            "justify_items": null,
            "grid_row": null,
            "max_height": null,
            "align_content": null,
            "visibility": null,
            "align_self": null,
            "height": null,
            "min_height": null,
            "padding": null,
            "grid_auto_rows": null,
            "grid_gap": null,
            "max_width": null,
            "order": null,
            "_view_module_version": "1.2.0",
            "grid_template_areas": null,
            "object_position": null,
            "object_fit": null,
            "grid_auto_columns": null,
            "margin": null,
            "display": null,
            "left": null
          }
        },
        "3d6b5ee83d384048a3ad2903b1844fe0": {
          "model_module": "@jupyter-widgets/controls",
          "model_name": "DescriptionStyleModel",
          "model_module_version": "1.5.0",
          "state": {
            "_view_name": "StyleView",
            "_model_name": "DescriptionStyleModel",
            "description_width": "",
            "_view_module": "@jupyter-widgets/base",
            "_model_module_version": "1.5.0",
            "_view_count": null,
            "_view_module_version": "1.2.0",
            "_model_module": "@jupyter-widgets/controls"
          }
        },
        "3da613c29f4b4234a1890551c656b9f7": {
          "model_module": "@jupyter-widgets/base",
          "model_name": "LayoutModel",
          "model_module_version": "1.2.0",
          "state": {
            "_view_name": "LayoutView",
            "grid_template_rows": null,
            "right": null,
            "justify_content": null,
            "_view_module": "@jupyter-widgets/base",
            "overflow": null,
            "_model_module_version": "1.2.0",
            "_view_count": null,
            "flex_flow": null,
            "width": null,
            "min_width": null,
            "border": null,
            "align_items": null,
            "bottom": null,
            "_model_module": "@jupyter-widgets/base",
            "top": null,
            "grid_column": null,
            "overflow_y": null,
            "overflow_x": null,
            "grid_auto_flow": null,
            "grid_area": null,
            "grid_template_columns": null,
            "flex": null,
            "_model_name": "LayoutModel",
            "justify_items": null,
            "grid_row": null,
            "max_height": null,
            "align_content": null,
            "visibility": null,
            "align_self": null,
            "height": null,
            "min_height": null,
            "padding": null,
            "grid_auto_rows": null,
            "grid_gap": null,
            "max_width": null,
            "order": null,
            "_view_module_version": "1.2.0",
            "grid_template_areas": null,
            "object_position": null,
            "object_fit": null,
            "grid_auto_columns": null,
            "margin": null,
            "display": null,
            "left": null
          }
        }
      }
    }
  },
  "nbformat": 4,
  "nbformat_minor": 0
}